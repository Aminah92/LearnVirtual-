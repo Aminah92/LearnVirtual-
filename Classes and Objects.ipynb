{
 "cells": [
  {
   "cell_type": "markdown",
   "metadata": {},
   "source": [
    "### Classes and Objects\n",
    "* A class is a user-defined blueprint or prototype from which objects are created.\n",
    "\n",
    "* You can think of a class as a sort of template; a guide for the way an object should be structured.\n",
    "#### Object\n",
    "* An Object is an instance of a Class\n",
    "\n",
    "* A class is like a blueprint while an instance is a copy of the class with actual values"
   ]
  },
  {
   "cell_type": "code",
   "execution_count": 1,
   "metadata": {},
   "outputs": [],
   "source": [
    "# A simple class \n",
    "class Dog():                                                                       \n",
    "      \n",
    "    \n",
    "    # attribute \n",
    "    color = \"White\"\n",
    "    legs = 4\n",
    "    whiskers = True\n",
    "    \n",
    "  \n",
    "    # A sample method  (Behaviour) \n",
    "    def bark(self):  \n",
    "        print(\"Woof\")\n",
    "    def run(self):\n",
    "        print(\"run\")"
   ]
  },
  {
   "cell_type": "code",
   "execution_count": 2,
   "metadata": {},
   "outputs": [],
   "source": [
    "Billy = Dog() #object"
   ]
  },
  {
   "cell_type": "code",
   "execution_count": 6,
   "metadata": {},
   "outputs": [
    {
     "data": {
      "text/plain": [
       "True"
      ]
     },
     "execution_count": 6,
     "metadata": {},
     "output_type": "execute_result"
    }
   ],
   "source": [
    "Billy.whiskers"
   ]
  },
  {
   "cell_type": "code",
   "execution_count": 7,
   "metadata": {},
   "outputs": [],
   "source": [
    "Sally = Dog()"
   ]
  },
  {
   "cell_type": "code",
   "execution_count": 11,
   "metadata": {},
   "outputs": [
    {
     "name": "stdout",
     "output_type": "stream",
     "text": [
      "Woof\n"
     ]
    }
   ],
   "source": [
    "Sally.bark()"
   ]
  },
  {
   "cell_type": "code",
   "execution_count": 14,
   "metadata": {},
   "outputs": [],
   "source": [
    "class Dog():\n",
    "    def __init__(self,breed,color):\n",
    "        self.breed = breed\n",
    "        self.color = color\n",
    "    def color(self):\n",
    "        print(f\"The color of this Dog is {self.color}\")"
   ]
  },
  {
   "cell_type": "code",
   "execution_count": 16,
   "metadata": {},
   "outputs": [],
   "source": [
    "Dog1 = Dog(\"German Shephard\",\"Black\")\n",
    "Dog2 = Dog(\"Bull Dog\",\"Black\")"
   ]
  },
  {
   "cell_type": "code",
   "execution_count": 20,
   "metadata": {},
   "outputs": [
    {
     "data": {
      "text/plain": [
       "'Black'"
      ]
     },
     "execution_count": 20,
     "metadata": {},
     "output_type": "execute_result"
    }
   ],
   "source": [
    "Dog1.color"
   ]
  },
  {
   "cell_type": "code",
   "execution_count": null,
   "metadata": {},
   "outputs": [],
   "source": []
  },
  {
   "cell_type": "markdown",
   "metadata": {},
   "source": [
    "### The self and the __init__"
   ]
  },
  {
   "cell_type": "code",
   "execution_count": 2,
   "metadata": {},
   "outputs": [],
   "source": [
    "class Person:\n",
    "    \n",
    "    #__init__ method or constructor\n",
    "    def __init__(self,name):\n",
    "        self.name = name\n",
    "        \n",
    "    # Sample User\n",
    "    def say_hi(self):\n",
    "        print(\"Hello my name is\",self.name)"
   ]
  },
  {
   "cell_type": "code",
   "execution_count": 3,
   "metadata": {},
   "outputs": [],
   "source": [
    "israel = Person(\"Aminu Israel\")"
   ]
  },
  {
   "cell_type": "code",
   "execution_count": 5,
   "metadata": {},
   "outputs": [
    {
     "name": "stdout",
     "output_type": "stream",
     "text": [
      "Hello my name is Aminu Israel\n"
     ]
    }
   ],
   "source": [
    "israel.say_hi()"
   ]
  },
  {
   "cell_type": "markdown",
   "metadata": {},
   "source": [
    "### Class and Instance Variables\n",
    "\n",
    "\n",
    "* Instance variables are for data unique to each instance and class variables are for attributes and methods shared by all instances of the class. Instance variables are variables whose value is assigned inside a constructor or method with self whereas class variables are variables whose value is assigned in the class\n"
   ]
  },
  {
   "cell_type": "code",
   "execution_count": 25,
   "metadata": {},
   "outputs": [],
   "source": [
    "#Lets build a Dog class\n",
    "class Dog:\n",
    "    #class variable'\n",
    "    animal = 'Dog'\n",
    "    age = '11'\n",
    "    #The init method or constructor\n",
    "    def __init__(self,breed,color):\n",
    "        \n",
    "        #instance Variable\n",
    "        self.breed = breed\n",
    "        self.color = color\n",
    "        \n",
    "    def breed_type(self):\n",
    "        print(f\"The breed of the Dog is {self.breed} and the color is {self.color}\")"
   ]
  },
  {
   "cell_type": "code",
   "execution_count": 29,
   "metadata": {},
   "outputs": [],
   "source": [
    "rex = Dog(\"German Shephard\",\"Black\")\n",
    "billy = Dog(\"Bull Dog\", \"White\")"
   ]
  },
  {
   "cell_type": "code",
   "execution_count": 27,
   "metadata": {},
   "outputs": [
    {
     "data": {
      "text/plain": [
       "'Dog'"
      ]
     },
     "execution_count": 27,
     "metadata": {},
     "output_type": "execute_result"
    }
   ],
   "source": [
    "rex.animal"
   ]
  },
  {
   "cell_type": "code",
   "execution_count": 31,
   "metadata": {},
   "outputs": [
    {
     "name": "stdout",
     "output_type": "stream",
     "text": [
      "The breed of the Dog is Bull Dog and the color is White\n"
     ]
    }
   ],
   "source": [
    "billy.breed_type()"
   ]
  },
  {
   "cell_type": "code",
   "execution_count": 32,
   "metadata": {},
   "outputs": [
    {
     "name": "stdout",
     "output_type": "stream",
     "text": [
      "The breed of the Dog is German Shephard and the color is Black\n"
     ]
    }
   ],
   "source": [
    "rex.breed_type()"
   ]
  },
  {
   "cell_type": "markdown",
   "metadata": {},
   "source": [
    "### Lets Build a Student Profile using Classes and Objects..."
   ]
  },
  {
   "cell_type": "code",
   "execution_count": 34,
   "metadata": {},
   "outputs": [],
   "source": [
    "import pandas as pd #Datascience tool"
   ]
  },
  {
   "cell_type": "code",
   "execution_count": 37,
   "metadata": {},
   "outputs": [],
   "source": [
    "class StudentProfile():\n",
    "    is_student = True\n",
    "    \n",
    "    def __init__(self,FirstName,LastName,age,sex,MatricNumber,Department,Level):\n",
    "        self.FirstName = FirstName\n",
    "        self.LastName = LastName\n",
    "        self.age = age\n",
    "        self.sex = sex\n",
    "        self.MatricNumber = MatricNumber\n",
    "        self.Department = Department\n",
    "        self.Level = Level\n",
    "    def display_name(self):\n",
    "        print(f\"{self.FirstName} {self.LastName}\")\n",
    "    def save_detail(self):\n",
    "        student_detail = [self.FirstName,self.LastName,self.age,self.sex,self.MatricNumber]\n",
    "        save_data = pd.DataFrame(student_detail)\n",
    "        return save_data\n",
    "        "
   ]
  },
  {
   "cell_type": "code",
   "execution_count": 41,
   "metadata": {},
   "outputs": [],
   "source": [
    "Student1 = StudentProfile(\"Onyinye\",\"Mary\",15,\"Female\",1234567,\"Physics\",400)"
   ]
  },
  {
   "cell_type": "code",
   "execution_count": 42,
   "metadata": {},
   "outputs": [
    {
     "name": "stdout",
     "output_type": "stream",
     "text": [
      "Onyinye Mary\n"
     ]
    }
   ],
   "source": [
    "Student1.display_name()"
   ]
  },
  {
   "cell_type": "code",
   "execution_count": 43,
   "metadata": {},
   "outputs": [],
   "source": [
    "details = Student1.save_detail()"
   ]
  },
  {
   "cell_type": "code",
   "execution_count": 45,
   "metadata": {},
   "outputs": [
    {
     "data": {
      "text/html": [
       "<div>\n",
       "<style scoped>\n",
       "    .dataframe tbody tr th:only-of-type {\n",
       "        vertical-align: middle;\n",
       "    }\n",
       "\n",
       "    .dataframe tbody tr th {\n",
       "        vertical-align: top;\n",
       "    }\n",
       "\n",
       "    .dataframe thead th {\n",
       "        text-align: right;\n",
       "    }\n",
       "</style>\n",
       "<table border=\"1\" class=\"dataframe\">\n",
       "  <thead>\n",
       "    <tr style=\"text-align: right;\">\n",
       "      <th></th>\n",
       "      <th>0</th>\n",
       "    </tr>\n",
       "  </thead>\n",
       "  <tbody>\n",
       "    <tr>\n",
       "      <th>0</th>\n",
       "      <td>Onyinye</td>\n",
       "    </tr>\n",
       "    <tr>\n",
       "      <th>1</th>\n",
       "      <td>Mary</td>\n",
       "    </tr>\n",
       "    <tr>\n",
       "      <th>2</th>\n",
       "      <td>15</td>\n",
       "    </tr>\n",
       "    <tr>\n",
       "      <th>3</th>\n",
       "      <td>Female</td>\n",
       "    </tr>\n",
       "    <tr>\n",
       "      <th>4</th>\n",
       "      <td>1234567</td>\n",
       "    </tr>\n",
       "  </tbody>\n",
       "</table>\n",
       "</div>"
      ],
      "text/plain": [
       "         0\n",
       "0  Onyinye\n",
       "1     Mary\n",
       "2       15\n",
       "3   Female\n",
       "4  1234567"
      ]
     },
     "execution_count": 45,
     "metadata": {},
     "output_type": "execute_result"
    }
   ],
   "source": [
    "details"
   ]
  },
  {
   "cell_type": "code",
   "execution_count": null,
   "metadata": {},
   "outputs": [],
   "source": []
  }
 ],
 "metadata": {
  "kernelspec": {
   "display_name": "Python 3.6.10 64-bit ('covid_env': venv)",
   "language": "python",
   "name": "python361064bitcovidenvvenva2bf065cdd3749479e6acf3a899863ad"
  },
  "language_info": {
   "codemirror_mode": {
    "name": "ipython",
    "version": 3
   },
   "file_extension": ".py",
   "mimetype": "text/x-python",
   "name": "python",
   "nbconvert_exporter": "python",
   "pygments_lexer": "ipython3",
   "version": "3.6.10"
  }
 },
 "nbformat": 4,
 "nbformat_minor": 4
}
