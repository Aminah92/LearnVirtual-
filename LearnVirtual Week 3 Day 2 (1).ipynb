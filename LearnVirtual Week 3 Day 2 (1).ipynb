{
 "cells": [
  {
   "cell_type": "markdown",
   "metadata": {},
   "source": [
    "# NESTED LOOPS "
   ]
  },
  {
   "cell_type": "code",
   "execution_count": 3,
   "metadata": {},
   "outputs": [
    {
     "name": "stdout",
     "output_type": "stream",
     "text": [
      "Hello\n",
      "Hello\n",
      "Hello\n",
      "Hello\n",
      "Hello\n",
      "Hello\n"
     ]
    }
   ],
   "source": [
    "#Nested for loops\n",
    "for i in range(2):\n",
    "    for j in range(3):\n",
    "        print('Hello')"
   ]
  },
  {
   "cell_type": "code",
   "execution_count": 16,
   "metadata": {
    "scrolled": true
   },
   "outputs": [
    {
     "name": "stdout",
     "output_type": "stream",
     "text": [
      "*\n",
      "**\n",
      "***\n",
      "****\n",
      "*****\n",
      "******\n",
      "*******\n",
      "********\n",
      "*********\n"
     ]
    }
   ],
   "source": [
    "#Creating a pattern in Python with a nested loop\n",
    "for pattern in range(1,10):\n",
    "    for stars in range(pattern):\n",
    "        print('*',end=\"\")\n",
    "    print(\"\")"
   ]
  },
  {
   "cell_type": "code",
   "execution_count": 17,
   "metadata": {},
   "outputs": [
    {
     "name": "stdout",
     "output_type": "stream",
     "text": [
      "**********\n",
      "*********\n",
      "********\n",
      "*******\n",
      "******\n",
      "*****\n",
      "****\n",
      "***\n",
      "**\n",
      "*\n"
     ]
    }
   ],
   "source": [
    "for pattern in range(10,0,-1):\n",
    "    for stars in range(pattern):\n",
    "        print('*',end=\"\")\n",
    "    print(\"\")"
   ]
  },
  {
   "cell_type": "markdown",
   "metadata": {},
   "source": [
    "## Assigment\n",
    "- Look up how to create multiple patterns using loops:"
   ]
  },
  {
   "cell_type": "code",
   "execution_count": null,
   "metadata": {},
   "outputs": [],
   "source": [
    "#Here's one you might want to try out\n",
    "#creating a pyramid\n",
    "size = 10\n",
    "k = (2 * size) - 2\n",
    "for i in range(0, size):\n",
    "    for j in range(0, k):\n",
    "        print(end=\" \")\n",
    "    k = k - 1 # decreasing m after each loop\n",
    "    for j in range(0, i + 1):\n",
    "        # printing full Triangle pyramid using stars\n",
    "        print(\"* \", end=' ')\n",
    "    print(\" \")"
   ]
  },
  {
   "cell_type": "markdown",
   "metadata": {},
   "source": [
    "# INTRODUCTION TO FUNCTIONS IN PYTHON\n",
    "- IN-BUILT FUNCTIONS\n",
    "- USER-DEFINED FUNCTION"
   ]
  },
  {
   "cell_type": "markdown",
   "metadata": {},
   "source": [
    "## SOME IN-BUILT FUNCTIONS IN PYTHON\n",
    "- print()\n",
    "- input()\n",
    "- round()\n",
    "- lower()\n",
    "- upper()\n",
    "- range()\n",
    "- abs()\n",
    "- enumerate()\n",
    "- len()\n",
    "- str()\n",
    "- type()\n",
    "\n",
    "##### there are a lot of functions in python. We encourage you to do some research and learn more."
   ]
  },
  {
   "cell_type": "markdown",
   "metadata": {},
   "source": [
    "## USER DEFINED FUNCTIONS IN PYTHON\n",
    "### STEPS: \n",
    "- Function Definition/Declaration using the 'def'  keyword, along with the function name\n",
    "- Calling a function"
   ]
  },
  {
   "cell_type": "code",
   "execution_count": 18,
   "metadata": {},
   "outputs": [
    {
     "data": {
      "image/png": "[encoded data removed]",
      "text/plain": [
       "<IPython.core.display.Image object>"
      ]
     },
     "execution_count": 18,
     "metadata": {},
     "output_type": "execute_result"
    }
   ],
   "source": [
    "from IPython.display import Image\n",
    "Image(\"func.png\")"
   ]
  },
  {
   "cell_type": "code",
   "execution_count": 19,
   "metadata": {},
   "outputs": [
    {
     "name": "stdout",
     "output_type": "stream",
     "text": [
      "Ab\n"
     ]
    }
   ],
   "source": [
    "name = 'Ab'\n",
    "print(name)"
   ]
  },
  {
   "cell_type": "code",
   "execution_count": null,
   "metadata": {},
   "outputs": [],
   "source": [
    "name = 'Am'\n",
    "print(name)"
   ]
  },
  {
   "cell_type": "code",
   "execution_count": 21,
   "metadata": {},
   "outputs": [],
   "source": [
    "#example\n",
    "#Declare/define the function\n",
    "def hello():\n",
    "    name = input('What\\'s your name')\n",
    "    print('Hello ' + name + ' ,nice to have you here' )"
   ]
  },
  {
   "cell_type": "code",
   "execution_count": 22,
   "metadata": {},
   "outputs": [
    {
     "name": "stdout",
     "output_type": "stream",
     "text": [
      "What's your nameDiyyah\n",
      "Hello Diyyah ,nice to have you here\n"
     ]
    }
   ],
   "source": [
    "#call the function\n",
    "hello()"
   ]
  },
  {
   "cell_type": "code",
   "execution_count": 23,
   "metadata": {},
   "outputs": [
    {
     "name": "stdout",
     "output_type": "stream",
     "text": [
      "What's your nameAdeola\n",
      "Hello Adeola ,nice to have you here\n"
     ]
    }
   ],
   "source": [
    "hello()"
   ]
  },
  {
   "cell_type": "code",
   "execution_count": 25,
   "metadata": {},
   "outputs": [
    {
     "name": "stdout",
     "output_type": "stream",
     "text": [
      "hi Fatimah!\n"
     ]
    }
   ],
   "source": [
    "#another example\n",
    "def learnvirtual(tutor):\n",
    "    print('hi ' + tutor + '!')\n",
    "learnvirtual('Fatimah')"
   ]
  },
  {
   "cell_type": "code",
   "execution_count": 26,
   "metadata": {},
   "outputs": [
    {
     "name": "stdout",
     "output_type": "stream",
     "text": [
      "hi Stephen!\n"
     ]
    }
   ],
   "source": [
    "learnvirtual('Stephen')"
   ]
  },
  {
   "cell_type": "code",
   "execution_count": 28,
   "metadata": {},
   "outputs": [
    {
     "name": "stdout",
     "output_type": "stream",
     "text": [
      "hi Samson!\n"
     ]
    }
   ],
   "source": [
    "learnvirtual('Samson')"
   ]
  },
  {
   "cell_type": "code",
   "execution_count": 30,
   "metadata": {},
   "outputs": [
    {
     "name": "stdout",
     "output_type": "stream",
     "text": [
      "56\n"
     ]
    }
   ],
   "source": [
    "#area of a shape\n",
    "def Area(L,B):\n",
    "    print(L*B)\n",
    "Area(7,8)"
   ]
  },
  {
   "cell_type": "code",
   "execution_count": 32,
   "metadata": {},
   "outputs": [
    {
     "name": "stdout",
     "output_type": "stream",
     "text": [
      "144\n"
     ]
    }
   ],
   "source": [
    "Area(12,12)"
   ]
  },
  {
   "cell_type": "code",
   "execution_count": 33,
   "metadata": {},
   "outputs": [
    {
     "name": "stdout",
     "output_type": "stream",
     "text": [
      "125.0\n"
     ]
    }
   ],
   "source": [
    "#Simple interest\n",
    "def simpInterest(P,T,R):\n",
    "    I = (P*T*R)/100\n",
    "    print(I)\n",
    "simpInterest(1000,5,2.5)"
   ]
  },
  {
   "cell_type": "code",
   "execution_count": 34,
   "metadata": {},
   "outputs": [
    {
     "name": "stdout",
     "output_type": "stream",
     "text": [
      "Create a Username: Mardiyyah\n",
      "create your password: 0000\n"
     ]
    }
   ],
   "source": [
    "#more examples\n",
    "username = input('Create a Username: ')\n",
    "key = input('create your password: ')\n",
    "def nameVerify():\n",
    "    name = input('Enter your Username: ')\n",
    "    password = input('Enter your password: ')\n",
    "    if (name == username) and (password == key):\n",
    "        print('Correct details Entered')\n",
    "        print('login successful')\n",
    "    else:\n",
    "        print('Wrong username/password')\n",
    "        print('unsuccessful login, Please try again with the correct details!')\n"
   ]
  },
  {
   "cell_type": "code",
   "execution_count": 36,
   "metadata": {},
   "outputs": [
    {
     "name": "stdout",
     "output_type": "stream",
     "text": [
      "Enter your Username: Adeola\n",
      "Enter your password: 0000\n",
      "Wrong username/password\n",
      "unsuccessful login, Please try again with the correct details!\n"
     ]
    }
   ],
   "source": [
    "nameVerify()"
   ]
  },
  {
   "cell_type": "code",
   "execution_count": null,
   "metadata": {},
   "outputs": [],
   "source": []
  },
  {
   "cell_type": "markdown",
   "metadata": {},
   "source": [
    "## TASKS\n",
    "- Create a function that prints a welcome message with the user's name, either for an online shopping website, an hospital, an ATM , a Bank display message on entry et cetera\n",
    "\n",
    "- Create a function that carries out  mathematical operation (add, sub, multiply,division,remainder etc)"
   ]
  },
  {
   "cell_type": "markdown",
   "metadata": {},
   "source": [
    "## Using the \"Return\" Statement"
   ]
  },
  {
   "cell_type": "code",
   "execution_count": 47,
   "metadata": {},
   "outputs": [],
   "source": [
    "def add(x,y):\n",
    "    total = x + y\n",
    "    #print(total)\n",
    "    return(total)"
   ]
  },
  {
   "cell_type": "code",
   "execution_count": 50,
   "metadata": {},
   "outputs": [],
   "source": [
    "x = add(2,3)"
   ]
  },
  {
   "cell_type": "code",
   "execution_count": 51,
   "metadata": {},
   "outputs": [
    {
     "name": "stdout",
     "output_type": "stream",
     "text": [
      "5\n"
     ]
    }
   ],
   "source": [
    "#print(x)"
   ]
  },
  {
   "cell_type": "code",
   "execution_count": null,
   "metadata": {},
   "outputs": [],
   "source": [
    " def evenNum(a):\n",
    "    if a%2==0:\n",
    "        return 'Even number'\n",
    "    else:\n",
    "        return 'Odd number'"
   ]
  },
  {
   "cell_type": "code",
   "execution_count": null,
   "metadata": {},
   "outputs": [],
   "source": [
    "evenNum(7)"
   ]
  },
  {
   "cell_type": "markdown",
   "metadata": {},
   "source": [
    "##### How about you try this with other mathematical operations?"
   ]
  },
  {
   "cell_type": "code",
   "execution_count": 52,
   "metadata": {},
   "outputs": [],
   "source": [
    "def nameField(first_name,last_name):\n",
    "    full_name = \"{} {}\".format(first_name,last_name)\n",
    "    return 'Hi! ' + full_name"
   ]
  },
  {
   "cell_type": "code",
   "execution_count": 53,
   "metadata": {},
   "outputs": [
    {
     "data": {
      "text/plain": [
       "'Hi! Aminah Rufai'"
      ]
     },
     "execution_count": 53,
     "metadata": {},
     "output_type": "execute_result"
    }
   ],
   "source": [
    "nameField('Aminah', 'Rufai')"
   ]
  },
  {
   "cell_type": "code",
   "execution_count": 54,
   "metadata": {},
   "outputs": [],
   "source": [
    "#Creating a function for defining Age bin\n",
    "def Age(x):\n",
    "    x = int(input('Enter your age: '))\n",
    "    if x >= 18 and x <= 24:\n",
    "        return 'EarlyAdult'\n",
    "    elif x >= 25 and x <= 44:\n",
    "        return 'Mid-age'\n",
    "    elif x > 45:\n",
    "        return 'Granny'\n",
    "    else:\n",
    "        return 'Teenager'"
   ]
  },
  {
   "cell_type": "code",
   "execution_count": 56,
   "metadata": {},
   "outputs": [
    {
     "name": "stdout",
     "output_type": "stream",
     "text": [
      "Enter your age: 30\n"
     ]
    },
    {
     "data": {
      "text/plain": [
       "'Mid-age'"
      ]
     },
     "execution_count": 56,
     "metadata": {},
     "output_type": "execute_result"
    }
   ],
   "source": [
    "Age(x)"
   ]
  },
  {
   "cell_type": "markdown",
   "metadata": {},
   "source": [
    "# can someone quickly tell me the difference btw the two variable definition above and below?"
   ]
  },
  {
   "cell_type": "code",
   "execution_count": 57,
   "metadata": {},
   "outputs": [
    {
     "name": "stdout",
     "output_type": "stream",
     "text": [
      "Enter your weight: 56\n",
      "Enter your height: 165\n"
     ]
    }
   ],
   "source": [
    "#Bmi calculator\n",
    "x = float(input('Enter your weight: '))\n",
    "y = float(input('Enter your height: '))\n",
    "def Bmi(x,y):\n",
    "    \n",
    "    bmi = x/(y**2)\n",
    "    bmi = round(bmi,1)\n",
    "\n",
    "    if bmi<18.5:\n",
    "        return 'You are underweighted'\n",
    "    elif((bmi>=18.5) and (bmi<25)):\n",
    "        return 'You have a normal weight'\n",
    "    elif((bmi>=25) and (bmi<30)):\n",
    "        return 'You are overweighted'\n",
    "    else:\n",
    "        return 'You are Obese'"
   ]
  },
  {
   "cell_type": "code",
   "execution_count": 58,
   "metadata": {},
   "outputs": [
    {
     "name": "stdout",
     "output_type": "stream",
     "text": [
      "56.0\n"
     ]
    }
   ],
   "source": [
    "print(x)"
   ]
  },
  {
   "cell_type": "code",
   "execution_count": 59,
   "metadata": {},
   "outputs": [
    {
     "data": {
      "text/plain": [
       "'You are underweighted'"
      ]
     },
     "execution_count": 59,
     "metadata": {},
     "output_type": "execute_result"
    }
   ],
   "source": [
    "Bmi(x,y)"
   ]
  },
  {
   "cell_type": "code",
   "execution_count": 3,
   "metadata": {},
   "outputs": [
    {
     "name": "stdout",
     "output_type": "stream",
     "text": [
      "What day is it today?Friday\n"
     ]
    }
   ],
   "source": [
    "day = input('What day is it today?')\n",
    "def mySchedule(day):\n",
    "    weekday = ['Monday','Tuesday','Wednesday','Thursday','Friday']\n",
    "    weekend = ['Saturday', 'Sunday']\n",
    "    \n",
    "    if day in weekday:\n",
    "        print('Get up and go to work')\n",
    "    else:\n",
    "        print('You can sleep in today')"
   ]
  },
  {
   "cell_type": "code",
   "execution_count": 4,
   "metadata": {},
   "outputs": [
    {
     "name": "stdout",
     "output_type": "stream",
     "text": [
      "Get up and go to work\n"
     ]
    }
   ],
   "source": [
    "mySchedule(day)"
   ]
  },
  {
   "cell_type": "code",
   "execution_count": 6,
   "metadata": {},
   "outputs": [
    {
     "data": {
      "text/plain": [
       "str"
      ]
     },
     "execution_count": 6,
     "metadata": {},
     "output_type": "execute_result"
    }
   ],
   "source": [
    "type(mySchedule())"
   ]
  },
  {
   "cell_type": "markdown",
   "metadata": {},
   "source": [
    "## Assignment\n",
    "- Try out the daily tasks, restuarant and ATM machine using fucntion definition and see how it helps reduce the lines of code and increases its resuability"
   ]
  },
  {
   "cell_type": "markdown",
   "metadata": {},
   "source": [
    "## Using Docstrings:"
   ]
  },
  {
   "cell_type": "code",
   "execution_count": null,
   "metadata": {},
   "outputs": [],
   "source": [
    "#example\n",
    "def Bmi(x,y):\n",
    "    \"\"\"This is a function for calculating the bmi of a person\n",
    "    given height in meters and weight in Kg\"\"\"\n",
    "    x = float(input('Enter your weight: '))\n",
    "    y = float(input('Enter your height: '))\n",
    "    bmi = x/(y**2)\n",
    "    bmi = round(bmi,1)\n",
    "\n",
    "    if bmi<18.5:\n",
    "        return 'You are underweighted'\n",
    "    elif((bmi>=18.5) and (bmi<25)):\n",
    "        return 'You have a normal weight'\n",
    "    elif((bmi>=25) and (bmi<30)):\n",
    "        return 'You are overweighted'\n",
    "    else:\n",
    "        return 'You are Obese'"
   ]
  },
  {
   "cell_type": "code",
   "execution_count": null,
   "metadata": {},
   "outputs": [],
   "source": [
    "Bmi(x,y)"
   ]
  },
  {
   "cell_type": "markdown",
   "metadata": {},
   "source": [
    "### Adding Arguments to Functions\n",
    "\n",
    "- Required Arguments - could be variable, strings, lists,dictionaries et cetera. Must be included when calling out a function. \n",
    "- Keyword Arguments \n",
    "- Default arguments - arguments that take a default value if no argument value is passed during the function call. Can be assigned with the '=' sign in python"
   ]
  },
  {
   "cell_type": "code",
   "execution_count": 9,
   "metadata": {},
   "outputs": [],
   "source": [
    "#Using default arguments\n",
    "def add(a,b=5):\n",
    "    m = a + b\n",
    "    return m"
   ]
  },
  {
   "cell_type": "code",
   "execution_count": 10,
   "metadata": {},
   "outputs": [
    {
     "data": {
      "text/plain": [
       "11"
      ]
     },
     "execution_count": 10,
     "metadata": {},
     "output_type": "execute_result"
    }
   ],
   "source": [
    "add(2,9)"
   ]
  },
  {
   "cell_type": "code",
   "execution_count": 11,
   "metadata": {},
   "outputs": [],
   "source": [
    "def add(*args):\n",
    "    return sum(args)"
   ]
  },
  {
   "cell_type": "code",
   "execution_count": 14,
   "metadata": {},
   "outputs": [
    {
     "data": {
      "text/plain": [
       "356"
      ]
     },
     "execution_count": 14,
     "metadata": {},
     "output_type": "execute_result"
    }
   ],
   "source": [
    "add(1,2,3,9,20,29,292)"
   ]
  },
  {
   "cell_type": "code",
   "execution_count": null,
   "metadata": {},
   "outputs": [],
   "source": [
    "#Create a calculator using the args statement\n",
    "def Calculator(*args):\n",
    "    operator = input('Choose an operator: ')\n",
    "    \n",
    "    if operator == '-':\n",
    "        return sum(args)\n"
   ]
  },
  {
   "cell_type": "markdown",
   "metadata": {},
   "source": [
    "### Using the 'Pass' Statement"
   ]
  },
  {
   "cell_type": "code",
   "execution_count": 15,
   "metadata": {},
   "outputs": [],
   "source": [
    "def nothing(a,b):\n",
    "    m = a - b\n",
    "    pass"
   ]
  },
  {
   "cell_type": "code",
   "execution_count": 16,
   "metadata": {},
   "outputs": [],
   "source": [
    "nothing(3,2)"
   ]
  },
  {
   "cell_type": "code",
   "execution_count": null,
   "metadata": {},
   "outputs": [],
   "source": []
  }
 ],
 "metadata": {
  "kernelspec": {
   "display_name": "Python 3",
   "language": "python",
   "name": "python3"
  },
  "language_info": {
   "codemirror_mode": {
    "name": "ipython",
    "version": 3
   },
   "file_extension": ".py",
   "mimetype": "text/x-python",
   "name": "python",
   "nbconvert_exporter": "python",
   "pygments_lexer": "ipython3",
   "version": "3.7.5"
  }
 },
 "nbformat": 4,
 "nbformat_minor": 4
}
